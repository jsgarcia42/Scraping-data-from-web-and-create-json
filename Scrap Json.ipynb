{
 "cells": [
  {
   "cell_type": "code",
   "execution_count": 10,
   "id": "58cb6945",
   "metadata": {},
   "outputs": [
    {
     "name": "stdout",
     "output_type": "stream",
     "text": [
      "Dados obtidos da plataforma Livoltek\n"
     ]
    }
   ],
   "source": [
    "from selenium import webdriver\n",
    "from selenium.webdriver.common.keys import Keys\n",
    "import os \n",
    "import pandas as pd\n",
    "from googleapiclient.discovery import build\n",
    "from google.oauth2.credentials import Credentials\n",
    "from google.oauth2 import service_account\n",
    "import requests\n",
    "import json\n",
    "\n",
    "# variables\n",
    "browser = webdriver.Chrome()\n",
    "firstLogin = 'insert email'\n",
    "firstPassword = 'insert password'\n",
    "\n",
    "# open browser\n",
    "browser.implicitly_wait(3) # seconds\n",
    "browser.get(\"https://www.livoltek-portal.com/#/\")\n",
    "browser.maximize_window()\n",
    "\n",
    "# login Livoltek account\n",
    "browser.find_element_by_xpath('//*[@id=\"app\"]/div/div/div/form/div[2]/div/div[1]/input').send_keys(firstLogin)\n",
    "browser.find_element_by_xpath('//*[@id=\"app\"]/div/div/div/form/div[3]/div/div[1]/input').send_keys(firstPassword)\n",
    "browser.find_element_by_xpath('//*[@id=\"app\"]/div/div/div/button').click()\n",
    "time.sleep(2)\n",
    "\n",
    "totalData=pd.DataFrame()\n",
    "dataResult=pd.DataFrame()\n",
    "\n",
    "# get table\n",
    "RTP=browser.find_elements_by_xpath('//*[@id=\"app\"]/section/main/div/div[4]/div/div/div[3]/div[2]/table/tbody/tr/td[1]/div/div/div/p[1]/span[2][1]')\n",
    "siteStatus=browser.find_elements_by_xpath('//*[@id=\"app\"]/section/main/div/div[4]/div/div/div[3]/div[2]/table/tbody/tr/td[1]/div/div/div/p[2]/span[2]/div[1]')\n",
    "PVC=browser.find_elements_by_xpath('//*[@id=\"app\"]/section/main/div/div[4]/div/div/div[3]/div[2]/table/tbody/tr/td[1]/div/div/div/p[3]/span[2][1]')\n",
    "SCT=browser.find_elements_by_xpath('//*[@id=\"app\"]/section/main/div/div[4]/div/div/div[3]/div[2]/table/tbody/tr/td[1]/div/div/div/p[4]/span[2][1]')\n",
    "todayY=browser.find_elements_by_xpath('//*[@id=\"app\"]/section/main/div/div[4]/div/div/div[3]/div[2]/table/tbody/tr/td[2]/div/div/div/p[1]/span[2][1]')\n",
    "todayR=browser.find_elements_by_xpath('//*[@id=\"app\"]/section/main/div/div[4]/div/div/div[3]/div[2]/table/tbody/tr/td[2]/div/div/div/p[2]/span[2][1]')\n",
    "MY=browser.find_elements_by_xpath('//*[@id=\"app\"]/section/main/div/div[4]/div/div/div[3]/div[2]/table/tbody/tr/td[2]/div/div/div/p[3]/span[2][1]')\n",
    "MR=browser.find_elements_by_xpath('//*[@id=\"app\"]/section/main/div/div[4]/div/div/div[3]/div[2]/table/tbody/tr/td[2]/div/div/div/p[4]/span[2][1]')\n",
    "totalY=browser.find_elements_by_xpath('//*[@id=\"app\"]/section/main/div/div[4]/div/div/div[3]/div[2]/table/tbody/tr/td[3]/div/div/div/p[1]/span[2][1]')\n",
    "totalR=browser.find_elements_by_xpath('//*[@id=\"app\"]/section/main/div/div[4]/div/div/div[3]/div[2]/table/tbody/tr/td[3]/div/div/div/p[2]/span[2][1]')\n",
    "DUT=browser.find_elements_by_xpath('//*[@id=\"app\"]/section/main/div/div[4]/div/div/div[3]/div[2]/table/tbody/tr/td[3]/div/div/div/p[3]/span[2][1]')\n",
    "\n",
    "RTP = RTP[0].text\n",
    "siteStatus= siteStatus[0].text\n",
    "PVC= PVC[0].text\n",
    "SCT= SCT[0].text\n",
    "todayY= todayY[0].text\n",
    "todayR= todayR[0].text\n",
    "MY= MY[0].text\n",
    "MR= MR[0].text\n",
    "totalY= totalY[0].text\n",
    "totalR= totalR[0].text\n",
    "DUT= DUT[0].text\n",
    "\n",
    "# create temporary list\n",
    "temporaryData= {'Real-time Power(kW)':RTP,\n",
    "                   'Site Status': siteStatus,\n",
    "                   'PV Capacity(kWp)': PVC,\n",
    "                   'Site Creation Time': SCT,\n",
    "                   'Today Yield(kWh)': todayY,\n",
    "                   'Today Revenue(R$)': todayR,\n",
    "                   'Monthly Yield(kWh)': MY,\n",
    "                   'Monthly Revenue(R$)': MR,\n",
    "                   'Total Yield(kWh)': totalY,\n",
    "                   'Total Revenue(R$)': totalR,\n",
    "                   'Data Update Time': DUT}\n",
    "\n",
    "dataResult.append(temporaryData,ignore_index=True)\n",
    "\n",
    "# create df\n",
    "totalData=totalData.append(dataResult)\n",
    "\n",
    "# close browser\n",
    "browser.close()\n",
    "\n",
    "print(\"Dados obtidos da plataforma Livoltek\")\n"
   ]
  },
  {
   "cell_type": "markdown",
   "id": "33d160d2",
   "metadata": {},
   "source": [
    "# Create path and save/update json file"
   ]
  },
  {
   "cell_type": "code",
   "execution_count": 6,
   "id": "ff6e3fa0",
   "metadata": {},
   "outputs": [
    {
     "name": "stdout",
     "output_type": "stream",
     "text": [
      "Arquivo json foi atualizado\n"
     ]
    }
   ],
   "source": [
    "# create a new path\n",
    "try:\n",
    "    os.mkdir(r\"C:\\Users\\jheff\\Desktop\\Json Files\")\n",
    "    messageNewFolders = (\"Arquivo json foi criado\")\n",
    "except FileExistsError as e:\n",
    "    messageNewFolders = (\"Arquivo json foi atualizado\")\n",
    "\n",
    " \n",
    " # if already have a json file, append a new item in json array\n",
    "if messageNewFolders == \"Arquivo json foi atualizado\":\n",
    "    def write_json(new_data, filename='data.json'):\n",
    "        with open(r\"C:\\Users\\jheff\\Desktop\\Json Files\\file.json\",'r+') as file:\n",
    "            file_data = json.load(file)\n",
    "            file_data.append(new_data)\n",
    "            file.seek(0)\n",
    "            json.dump(file_data, file, indent = 4)\n",
    "        \n",
    "    y = temporaryData\n",
    "\n",
    "    write_json(y)\n",
    "\n",
    "# else create a new json array file\n",
    "else:\n",
    "    newJsonFile = [temporaryData]\n",
    "    with open(r\"C:\\Users\\jheff\\Desktop\\Json Files\\file.json\",\"w+\") as f:\n",
    "        json.dump(newJsonFile, f)\n",
    "        \n",
    "print(messageNewFolders)"
   ]
  },
  {
   "cell_type": "markdown",
   "id": "2dda0d1b",
   "metadata": {},
   "source": [
    "# Create dataframe to update g.sheet dashboard"
   ]
  },
  {
   "cell_type": "code",
   "execution_count": 7,
   "id": "7623275a",
   "metadata": {
    "scrolled": true
   },
   "outputs": [
    {
     "data": {
      "text/html": [
       "<div>\n",
       "<style scoped>\n",
       "    .dataframe tbody tr th:only-of-type {\n",
       "        vertical-align: middle;\n",
       "    }\n",
       "\n",
       "    .dataframe tbody tr th {\n",
       "        vertical-align: top;\n",
       "    }\n",
       "\n",
       "    .dataframe thead th {\n",
       "        text-align: right;\n",
       "    }\n",
       "</style>\n",
       "<table border=\"1\" class=\"dataframe\">\n",
       "  <thead>\n",
       "    <tr style=\"text-align: right;\">\n",
       "      <th></th>\n",
       "      <th>col1</th>\n",
       "      <th>col2</th>\n",
       "      <th>col3</th>\n",
       "      <th>col4</th>\n",
       "      <th>col5</th>\n",
       "      <th>col6</th>\n",
       "    </tr>\n",
       "  </thead>\n",
       "  <tbody>\n",
       "    <tr>\n",
       "      <th>0</th>\n",
       "      <td>Real-time Power(kW)</td>\n",
       "      <td>0</td>\n",
       "      <td>Today Yield(kWh)</td>\n",
       "      <td>0</td>\n",
       "      <td>Total Yield(kWh)</td>\n",
       "      <td>335.79</td>\n",
       "    </tr>\n",
       "    <tr>\n",
       "      <th>1</th>\n",
       "      <td>Site Status</td>\n",
       "      <td>All Offline</td>\n",
       "      <td>Today Revenue(R$)</td>\n",
       "      <td>0</td>\n",
       "      <td>Total Revenue(R$)</td>\n",
       "      <td>0</td>\n",
       "    </tr>\n",
       "    <tr>\n",
       "      <th>2</th>\n",
       "      <td>PV Capacity(kWp)</td>\n",
       "      <td>6</td>\n",
       "      <td>Monthly Yield(kWh)</td>\n",
       "      <td>306.72</td>\n",
       "      <td>Data Update Time</td>\n",
       "      <td>2021-10-10 17:43:20</td>\n",
       "    </tr>\n",
       "    <tr>\n",
       "      <th>3</th>\n",
       "      <td>Site Creation Time</td>\n",
       "      <td>2021-09-20 17:37:20</td>\n",
       "      <td>Monthly Revenue(R$)</td>\n",
       "      <td>0</td>\n",
       "      <td>-</td>\n",
       "      <td>-</td>\n",
       "    </tr>\n",
       "  </tbody>\n",
       "</table>\n",
       "</div>"
      ],
      "text/plain": [
       "                  col1                 col2                 col3    col4  \\\n",
       "0  Real-time Power(kW)                    0     Today Yield(kWh)       0   \n",
       "1          Site Status          All Offline    Today Revenue(R$)       0   \n",
       "2     PV Capacity(kWp)                    6   Monthly Yield(kWh)  306.72   \n",
       "3   Site Creation Time  2021-09-20 17:37:20  Monthly Revenue(R$)       0   \n",
       "\n",
       "                col5                 col6  \n",
       "0   Total Yield(kWh)               335.79  \n",
       "1  Total Revenue(R$)                    0  \n",
       "2   Data Update Time  2021-10-10 17:43:20  \n",
       "3                  -                    -  "
      ]
     },
     "execution_count": 7,
     "metadata": {},
     "output_type": "execute_result"
    }
   ],
   "source": [
    "# List \n",
    "datalist = [ ('Real-time Power(kW)',RTP,'Today Yield(kWh)', todayY,'Total Yield(kWh)', totalY)]\n",
    "#Create a DataFrame object\n",
    "dfsheet = pd.DataFrame(datalist, columns = ['col1' , 'col2', 'col3','col4' , 'col5', 'col6'])\n",
    "#Add new ROWS\n",
    "dfsheet.loc[1]=[ 'Site Status', siteStatus,'Today Revenue(R$)', todayR,'Total Revenue(R$)',totalR]\n",
    "dfsheet.loc[2]=[ 'PV Capacity(kWp)', PVC,'Monthly Yield(kWh)', MY,'Data Update Time', DUT]\n",
    "dfsheet.loc[3]=[ 'Site Creation Time', SCT,'Monthly Revenue(R$)', MR,\"-\",\"-\"]\n",
    "\n",
    "print(\"Dados prontos para serem atualizados no Dashboard\")"
   ]
  },
  {
   "cell_type": "markdown",
   "id": "bc14bfe4",
   "metadata": {},
   "source": [
    "# Update g.sheet dashboard"
   ]
  },
  {
   "cell_type": "code",
   "execution_count": 8,
   "id": "62f033f9",
   "metadata": {},
   "outputs": [
    {
     "name": "stdout",
     "output_type": "stream",
     "text": [
      "Dashboard atualizado\n",
      "A automação foi finalizada com sucesso!\n"
     ]
    }
   ],
   "source": [
    "# set spreadsheet update\n",
    "serviceAccountFile = 'keyscrap.json'\n",
    "scopes = ['https://www.googleapis.com/auth/spreadsheets']\n",
    "\n",
    "creds = None\n",
    "creds = service_account.Credentials.from_service_account_file(\n",
    "        serviceAccountFile, scopes=scopes)\n",
    "\n",
    "# The ID spreadsheet.\n",
    "spreadsheetID = '1H5e3g8XDeKXpIZ6Bo4dv0rC18Uqr3b_Ve_H1bMJN1ss'   \n",
    "\n",
    "service = build('sheets', 'v4', credentials=creds)\n",
    "\n",
    "# Call the Sheets API\n",
    "sheet = service.spreadsheets()\n",
    "sheetUpdate = sheet.values().get(spreadsheetId=spreadsheetID, range=\"Dados atualizados!A1\").execute()\n",
    "\n",
    "df = dfsheet\n",
    "\n",
    "valueRangeBody = {\"values\":df.to_numpy().tolist(),\"majorDimension\": \"DIMENSION_UNSPECIFIED\"}\n",
    "\n",
    "requestUpdate = sheet.values().update(spreadsheetId=spreadsheetID, \n",
    "                                range=\"Dados atualizados!D8\", \n",
    "                                valueInputOption=\"USER_ENTERED\", \n",
    "                                body=valueRangeBody)\n",
    "\n",
    "# execute update\n",
    "response = requestUpdate.execute()\n",
    "\n",
    "print(\"Dashboard atualizado\")\n",
    "\n",
    "print(\"A automação foi finalizada com sucesso!\")\n"
   ]
  }
 ],
 "metadata": {
  "kernelspec": {
   "display_name": "Python 3",
   "language": "python",
   "name": "python3"
  },
  "language_info": {
   "codemirror_mode": {
    "name": "ipython",
    "version": 3
   },
   "file_extension": ".py",
   "mimetype": "text/x-python",
   "name": "python",
   "nbconvert_exporter": "python",
   "pygments_lexer": "ipython3",
   "version": "3.8.8"
  }
 },
 "nbformat": 4,
 "nbformat_minor": 5
}
